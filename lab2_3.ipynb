{
  "nbformat": 4,
  "nbformat_minor": 0,
  "metadata": {
    "colab": {
      "provenance": [],
      "include_colab_link": true
    },
    "kernelspec": {
      "name": "python3",
      "display_name": "Python 3"
    },
    "language_info": {
      "name": "python"
    }
  },
  "cells": [
    {
      "cell_type": "markdown",
      "metadata": {
        "id": "view-in-github",
        "colab_type": "text"
      },
      "source": [
        "<a href=\"https://colab.research.google.com/github/ataj09/ML/blob/lab2task3/lab2_3.ipynb\" target=\"_parent\"><img src=\"https://colab.research.google.com/assets/colab-badge.svg\" alt=\"Open In Colab\"/></a>"
      ]
    },
    {
      "cell_type": "code",
      "execution_count": 7,
      "metadata": {
        "id": "pE8AUH1g_RkG"
      },
      "outputs": [],
      "source": [
        "def fun1():\n",
        "  import os\n",
        "  print(f\"ale jestes nie fajny: {os.__name__}\")"
      ]
    },
    {
      "cell_type": "code",
      "source": [
        "def fun2():\n",
        "  return"
      ],
      "metadata": {
        "id": "TM9JvX9TAFG-"
      },
      "execution_count": 8,
      "outputs": []
    },
    {
      "cell_type": "code",
      "source": [
        "def fun3():\n",
        "  return"
      ],
      "metadata": {
        "id": "sqESssNBAFLG"
      },
      "execution_count": 9,
      "outputs": []
    },
    {
      "cell_type": "code",
      "source": [
        "def fun4():\n",
        "  print('I love mr. Brylek! <3')\n",
        "  return"
      ],
      "metadata": {
        "id": "luVdpsG1AFPX"
      },
      "execution_count": 10,
      "outputs": []
    },
    {
      "cell_type": "code",
      "source": [
        "fun1()\n",
        "fun2()\n",
        "fun3()\n",
        "fun4()"
      ],
      "metadata": {
        "id": "bVbAtpxAAFhW",
        "outputId": "19b15aa7-2caf-4da5-c140-6be665f915ae",
        "colab": {
          "base_uri": "https://localhost:8080/"
        }
      },
      "execution_count": 11,
      "outputs": [
        {
          "output_type": "stream",
          "name": "stdout",
          "text": [
            "ale jestes nie fajny: os\n",
            "I love mr. Brylek! <3\n"
          ]
        }
      ]
    }
  ]
}