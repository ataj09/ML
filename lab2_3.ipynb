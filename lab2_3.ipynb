{
  "nbformat": 4,
  "nbformat_minor": 0,
  "metadata": {
    "colab": {
      "provenance": [],
      "authorship_tag": "ABX9TyMM97VLdGeCTMQsp76dCb6N",
      "include_colab_link": true
    },
    "kernelspec": {
      "name": "python3",
      "display_name": "Python 3"
    },
    "language_info": {
      "name": "python"
    }
  },
  "cells": [
    {
      "cell_type": "markdown",
      "metadata": {
        "id": "view-in-github",
        "colab_type": "text"
      },
      "source": [
        "<a href=\"https://colab.research.google.com/github/ataj09/ML/blob/lab2task3/lab2_3.ipynb\" target=\"_parent\"><img src=\"https://colab.research.google.com/assets/colab-badge.svg\" alt=\"Open In Colab\"/></a>"
      ]
    },
    {
      "cell_type": "code",
      "execution_count": 2,
      "metadata": {
        "id": "pE8AUH1g_RkG"
      },
      "outputs": [],
      "source": [
        "def fun1():\n",
        "  return"
      ]
    },
    {
      "cell_type": "code",
      "source": [
        "def fun2():\n",
        "  return"
      ],
      "metadata": {
        "id": "TM9JvX9TAFG-"
      },
      "execution_count": 3,
      "outputs": []
    },
    {
      "cell_type": "code",
      "source": [
        "def fun3():\n",
        "  return"
      ],
      "metadata": {
        "id": "sqESssNBAFLG"
      },
      "execution_count": 4,
      "outputs": []
    },
    {
      "cell_type": "code",
      "source": [
        "def fun4():\n",
        "  return"
      ],
      "metadata": {
        "id": "luVdpsG1AFPX"
      },
      "execution_count": 5,
      "outputs": []
    },
    {
      "cell_type": "code",
      "source": [
        "fun1()\n",
        "fun2()\n",
        "fun3()\n",
        "fun4()"
      ],
      "metadata": {
        "id": "bVbAtpxAAFhW"
      },
      "execution_count": 6,
      "outputs": []
    }
  ]
}